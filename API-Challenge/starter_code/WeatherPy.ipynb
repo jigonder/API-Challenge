{
 "cells": [
  {
   "cell_type": "markdown",
   "metadata": {},
   "source": [
    "# WeatherPy\n",
    "----\n",
    "\n",
    "#### Note\n",
    "* Instructions have been included for each segment. You do not have to follow them exactly, but they are included to help you think through the steps."
   ]
  },
  {
   "cell_type": "code",
   "execution_count": 1,
   "metadata": {
    "scrolled": true
   },
   "outputs": [],
   "source": [
    "# Dependencies and Setup\n",
    "import matplotlib.pyplot as plt\n",
    "import pandas as pd\n",
    "import numpy as np\n",
    "import requests\n",
    "import time\n",
    "from scipy.stats import linregress\n",
    "\n",
    "# Import API key\n",
    "from api_keys import weather_api_key\n",
    "units = \"imperial\"\n",
    "\n",
    "# Incorporated citipy to determine city based on latitude and longitude\n",
    "from citipy import citipy\n",
    "\n",
    "# Output File (CSV)\n",
    "output_data_file = \"output_data/cities.csv\"\n",
    "\n",
    "# Range of latitudes and longitudes\n",
    "lat_range = (-90, 90)\n",
    "lng_range = (-180, 180)"
   ]
  },
  {
   "cell_type": "markdown",
   "metadata": {},
   "source": [
    "## Generate Cities List"
   ]
  },
  {
   "cell_type": "code",
   "execution_count": 2,
   "metadata": {},
   "outputs": [
    {
     "data": {
      "text/plain": [
       "571"
      ]
     },
     "execution_count": 2,
     "metadata": {},
     "output_type": "execute_result"
    }
   ],
   "source": [
    "# List for holding lat_lngs and cities\n",
    "lat_lngs = []\n",
    "cities = []\n",
    "\n",
    "# Create a set of random lat and lng combinations\n",
    "lats = np.random.uniform(lat_range[0], lat_range[1], size=1500)\n",
    "lngs = np.random.uniform(lng_range[0], lng_range[1], size=1500)\n",
    "lat_lngs = zip(lats, lngs)\n",
    "\n",
    "# Identify nearest city for each lat, lng combination\n",
    "for lat_lng in lat_lngs:\n",
    "    city = citipy.nearest_city(lat_lng[0], lat_lng[1]).city_name\n",
    "    \n",
    "    # If the city is unique, then add it to a our cities list\n",
    "    if city not in cities:\n",
    "        cities.append(city)\n",
    "\n",
    "# Print the city count to confirm sufficient count\n",
    "len(cities)"
   ]
  },
  {
   "cell_type": "markdown",
   "metadata": {},
   "source": [
    "### Perform API Calls\n",
    "* Perform a weather check on each city using a series of successive API calls.\n",
    "* Include a print log of each city as it'sbeing processed (with the city number and city name).\n"
   ]
  },
  {
   "cell_type": "code",
   "execution_count": 3,
   "metadata": {},
   "outputs": [
    {
     "name": "stdout",
     "output_type": "stream",
     "text": [
      "Beginning Data Retrieval\n",
      "------------------------------\n",
      "Processing Record 1 of Set 1 | souillac\n",
      "Processing Record 2 of Set 1 | saint-joseph\n",
      "Processing Record 3 of Set 1 | busselton\n",
      "Processing Record 4 of Set 1 | luksuhin\n",
      "Processing Record 5 of Set 1 | batagay\n",
      "Processing Record 6 of Set 1 | ketchikan\n",
      "Processing Record 7 of Set 1 | yellowknife\n",
      "Processing Record 8 of Set 1 | bluff\n",
      "Processing Record 9 of Set 1 | belmonte\n",
      "Processing Record 10 of Set 1 | lebu\n",
      "City not found. Skipping...\n",
      "Processing Record 11 of Set 1 | hithadhoo\n",
      "Processing Record 12 of Set 1 | vaini\n",
      "Processing Record 13 of Set 1 | cidreira\n",
      "Processing Record 14 of Set 1 | jamestown\n",
      "Processing Record 15 of Set 1 | rawson\n",
      "Processing Record 16 of Set 1 | norman wells\n",
      "Processing Record 17 of Set 1 | loukhi\n",
      "Processing Record 18 of Set 1 | saldanha\n",
      "Processing Record 19 of Set 1 | dayong\n",
      "Processing Record 20 of Set 1 | punta arenas\n",
      "City not found. Skipping...\n",
      "Processing Record 21 of Set 1 | amazar\n",
      "Processing Record 22 of Set 1 | palmer\n",
      "Processing Record 23 of Set 1 | sioux lookout\n",
      "Processing Record 24 of Set 1 | port alfred\n",
      "Processing Record 25 of Set 1 | bathsheba\n",
      "Processing Record 26 of Set 1 | chicama\n",
      "Processing Record 27 of Set 1 | hobart\n",
      "Processing Record 28 of Set 1 | bethel\n",
      "Processing Record 29 of Set 1 | geraldton\n",
      "City not found. Skipping...\n",
      "Processing Record 30 of Set 1 | constitucion\n",
      "Processing Record 31 of Set 1 | acajutla\n",
      "Processing Record 32 of Set 1 | grand river south east\n",
      "Processing Record 33 of Set 1 | lavrentiya\n",
      "Processing Record 34 of Set 1 | katherine\n",
      "Processing Record 35 of Set 1 | tottori\n",
      "Processing Record 36 of Set 1 | georgetown\n",
      "Processing Record 37 of Set 1 | arraial do cabo\n",
      "City not found. Skipping...\n",
      "Processing Record 38 of Set 1 | klaksvik\n",
      "Processing Record 39 of Set 1 | atikokan\n",
      "City not found. Skipping...\n",
      "Processing Record 40 of Set 1 | seoul\n",
      "Processing Record 41 of Set 1 | qaanaaq\n",
      "Processing Record 42 of Set 1 | albany\n",
      "Processing Record 43 of Set 1 | mataura\n",
      "Processing Record 44 of Set 1 | cape town\n",
      "Processing Record 45 of Set 1 | murray bridge\n",
      "Processing Record 46 of Set 1 | nanortalik\n",
      "Processing Record 47 of Set 1 | clyde river\n",
      "Processing Record 48 of Set 1 | grindavik\n",
      "City not found. Skipping...\n",
      "Processing Record 49 of Set 1 | puerto ayora\n",
      "Processing Record 1 of Set 2 | ancud\n",
      "Processing Record 2 of Set 2 | naze\n",
      "City not found. Skipping...\n",
      "Processing Record 3 of Set 2 | ushuaia\n",
      "Processing Record 4 of Set 2 | margate\n",
      "Processing Record 5 of Set 2 | paldiski\n",
      "Processing Record 6 of Set 2 | dunmore town\n",
      "Processing Record 7 of Set 2 | chulumani\n",
      "Processing Record 8 of Set 2 | yulara\n",
      "City not found. Skipping...\n",
      "Processing Record 9 of Set 2 | avarua\n",
      "Processing Record 10 of Set 2 | kahului\n",
      "Processing Record 11 of Set 2 | mar del plata\n",
      "Processing Record 12 of Set 2 | carnarvon\n",
      "Processing Record 13 of Set 2 | barrow\n",
      "Processing Record 14 of Set 2 | masalli\n",
      "City not found. Skipping...\n",
      "Processing Record 15 of Set 2 | lewistown\n",
      "Processing Record 16 of Set 2 | kapaa\n",
      "Processing Record 17 of Set 2 | ouegoa\n",
      "Processing Record 18 of Set 2 | kalmunai\n",
      "Processing Record 19 of Set 2 | bhindar\n",
      "Processing Record 20 of Set 2 | chapais\n",
      "Processing Record 21 of Set 2 | padang\n",
      "Processing Record 22 of Set 2 | cherskiy\n",
      "Processing Record 23 of Set 2 | yarmouth\n",
      "Processing Record 24 of Set 2 | rikitea\n",
      "Processing Record 25 of Set 2 | townsville\n",
      "Processing Record 26 of Set 2 | castro\n",
      "City not found. Skipping...\n",
      "Processing Record 27 of Set 2 | portland\n",
      "City not found. Skipping...\n",
      "Processing Record 28 of Set 2 | clyde\n",
      "Processing Record 29 of Set 2 | aklavik\n",
      "Processing Record 30 of Set 2 | sirjan\n",
      "Processing Record 31 of Set 2 | flinders\n",
      "City not found. Skipping...\n",
      "Processing Record 32 of Set 2 | luderitz\n",
      "Processing Record 33 of Set 2 | nekrasovskiy\n",
      "Processing Record 34 of Set 2 | chumikan\n",
      "Processing Record 35 of Set 2 | tasiilaq\n",
      "Processing Record 36 of Set 2 | ziro\n",
      "Processing Record 37 of Set 2 | huaraz\n",
      "Processing Record 38 of Set 2 | kodiak\n",
      "Processing Record 39 of Set 2 | mersin\n",
      "Processing Record 40 of Set 2 | hermanus\n",
      "Processing Record 41 of Set 2 | airai\n",
      "Processing Record 42 of Set 2 | yerbogachen\n",
      "Processing Record 43 of Set 2 | wattegama\n",
      "Processing Record 44 of Set 2 | esperance\n",
      "Processing Record 45 of Set 2 | tuktoyaktuk\n",
      "Processing Record 46 of Set 2 | keti bandar\n",
      "Processing Record 47 of Set 2 | dikson\n",
      "Processing Record 48 of Set 2 | upernavik\n",
      "Processing Record 49 of Set 2 | inta\n",
      "Processing Record 1 of Set 3 | masuguru\n",
      "City not found. Skipping...\n",
      "City not found. Skipping...\n",
      "Processing Record 2 of Set 3 | thompson\n",
      "Processing Record 3 of Set 3 | butaritari\n",
      "Processing Record 4 of Set 3 | galesong\n",
      "Processing Record 5 of Set 3 | jega\n",
      "Processing Record 6 of Set 3 | teguise\n",
      "City not found. Skipping...\n",
      "Processing Record 7 of Set 3 | ratnapura\n",
      "Processing Record 8 of Set 3 | atuona\n",
      "Processing Record 9 of Set 3 | deputatskiy\n",
      "Processing Record 10 of Set 3 | praia\n",
      "Processing Record 11 of Set 3 | bengkulu\n",
      "Processing Record 12 of Set 3 | ribeira grande\n",
      "City not found. Skipping...\n",
      "Processing Record 13 of Set 3 | kilrush\n",
      "Processing Record 14 of Set 3 | hilo\n",
      "Processing Record 15 of Set 3 | chuy\n",
      "Processing Record 16 of Set 3 | lipari\n",
      "Processing Record 17 of Set 3 | port elizabeth\n",
      "Processing Record 18 of Set 3 | avera\n",
      "Processing Record 19 of Set 3 | khatanga\n",
      "Processing Record 20 of Set 3 | east london\n",
      "City not found. Skipping...\n",
      "Processing Record 21 of Set 3 | chokurdakh\n",
      "Processing Record 22 of Set 3 | ilulissat\n",
      "Processing Record 23 of Set 3 | nanyuki\n",
      "Processing Record 24 of Set 3 | mount isa\n",
      "Processing Record 25 of Set 3 | saint-philippe\n",
      "Processing Record 26 of Set 3 | hamilton\n",
      "Processing Record 27 of Set 3 | urumqi\n",
      "Processing Record 28 of Set 3 | faya\n",
      "Processing Record 29 of Set 3 | nome\n",
      "Processing Record 30 of Set 3 | carire\n",
      "Processing Record 31 of Set 3 | kaitangata\n",
      "Processing Record 32 of Set 3 | kichera\n",
      "Processing Record 33 of Set 3 | atar\n",
      "Processing Record 34 of Set 3 | gravelbourg\n",
      "Processing Record 35 of Set 3 | narsaq\n",
      "Processing Record 36 of Set 3 | rocha\n",
      "Processing Record 37 of Set 3 | pevek\n",
      "City not found. Skipping...\n",
      "Processing Record 38 of Set 3 | kutulik\n",
      "Processing Record 39 of Set 3 | touros\n",
      "City not found. Skipping...\n",
      "Processing Record 40 of Set 3 | mahebourg\n",
      "Processing Record 41 of Set 3 | olafsvik\n",
      "Processing Record 42 of Set 3 | torbay\n",
      "Processing Record 43 of Set 3 | tuatapere\n",
      "Processing Record 44 of Set 3 | ashland\n",
      "Processing Record 45 of Set 3 | arbagar\n",
      "Processing Record 46 of Set 3 | juneau\n",
      "Processing Record 47 of Set 3 | pidhorodne\n",
      "Processing Record 48 of Set 3 | khingansk\n",
      "Processing Record 49 of Set 3 | immokalee\n",
      "City not found. Skipping...\n",
      "City not found. Skipping...\n",
      "Processing Record 1 of Set 4 | ronneby\n",
      "Processing Record 2 of Set 4 | panormos\n",
      "Processing Record 3 of Set 4 | maragua\n",
      "Processing Record 4 of Set 4 | pangai\n",
      "Processing Record 5 of Set 4 | half moon bay\n",
      "Processing Record 6 of Set 4 | mayo\n",
      "Processing Record 7 of Set 4 | puerto leguizamo\n",
      "Processing Record 8 of Set 4 | verkhoyansk\n",
      "Processing Record 9 of Set 4 | bogorodskoye\n",
      "Processing Record 10 of Set 4 | mys shmidta\n",
      "Processing Record 11 of Set 4 | katsuura\n",
      "Processing Record 12 of Set 4 | boralday\n",
      "Processing Record 13 of Set 4 | calama\n",
      "Processing Record 14 of Set 4 | tual\n",
      "Processing Record 15 of Set 4 | bisira\n",
      "City not found. Skipping...\n",
      "Processing Record 16 of Set 4 | oyem\n",
      "Processing Record 17 of Set 4 | longyearbyen\n",
      "Processing Record 18 of Set 4 | amapa\n",
      "Processing Record 19 of Set 4 | victoria\n",
      "Processing Record 20 of Set 4 | redcar\n",
      "Processing Record 21 of Set 4 | port macquarie\n",
      "Processing Record 22 of Set 4 | sao felix do xingu\n",
      "Processing Record 23 of Set 4 | saskylakh\n",
      "Processing Record 24 of Set 4 | nouadhibou\n",
      "Processing Record 25 of Set 4 | kavieng\n",
      "Processing Record 26 of Set 4 | tarakan\n",
      "Processing Record 27 of Set 4 | bonavista\n",
      "Processing Record 28 of Set 4 | zaraysk\n",
      "Processing Record 29 of Set 4 | grand gaube\n",
      "Processing Record 30 of Set 4 | bellview\n",
      "Processing Record 31 of Set 4 | sitka\n",
      "City not found. Skipping...\n",
      "Processing Record 32 of Set 4 | puerto escondido\n",
      "Processing Record 33 of Set 4 | anadyr\n",
      "Processing Record 34 of Set 4 | baruun-urt\n",
      "Processing Record 35 of Set 4 | rawlins\n",
      "Processing Record 36 of Set 4 | basco\n",
      "Processing Record 37 of Set 4 | karsava\n",
      "Processing Record 38 of Set 4 | leningradskiy\n",
      "City not found. Skipping...\n"
     ]
    },
    {
     "name": "stdout",
     "output_type": "stream",
     "text": [
      "Processing Record 39 of Set 4 | lodja\n",
      "Processing Record 40 of Set 4 | mountain home\n",
      "Processing Record 41 of Set 4 | haines junction\n",
      "Processing Record 42 of Set 4 | pasighat\n",
      "Processing Record 43 of Set 4 | mubi\n",
      "Processing Record 44 of Set 4 | tecpan\n",
      "Processing Record 45 of Set 4 | san quintin\n",
      "Processing Record 46 of Set 4 | vardo\n",
      "Processing Record 47 of Set 4 | sungaipenuh\n",
      "Processing Record 48 of Set 4 | westport\n",
      "Processing Record 49 of Set 4 | san cristobal\n",
      "City not found. Skipping...\n",
      "Processing Record 1 of Set 5 | labuhan\n",
      "Processing Record 2 of Set 5 | batsfjord\n",
      "Processing Record 3 of Set 5 | teguldet\n",
      "Processing Record 4 of Set 5 | coahuayana\n",
      "Processing Record 5 of Set 5 | nikolskoye\n",
      "City not found. Skipping...\n",
      "City not found. Skipping...\n",
      "Processing Record 6 of Set 5 | dunedin\n",
      "Processing Record 7 of Set 5 | hofn\n",
      "Processing Record 8 of Set 5 | richards bay\n",
      "Processing Record 9 of Set 5 | les cayes\n",
      "Processing Record 10 of Set 5 | severo-kurilsk\n",
      "Processing Record 11 of Set 5 | vaitape\n",
      "Processing Record 12 of Set 5 | liverpool\n",
      "Processing Record 13 of Set 5 | college\n",
      "Processing Record 14 of Set 5 | brownsburg\n",
      "Processing Record 15 of Set 5 | guerrero negro\n",
      "Processing Record 16 of Set 5 | zolotkovo\n",
      "Processing Record 17 of Set 5 | samarai\n",
      "Processing Record 18 of Set 5 | sagauli\n",
      "City not found. Skipping...\n",
      "Processing Record 19 of Set 5 | mapiripan\n",
      "City not found. Skipping...\n",
      "Processing Record 20 of Set 5 | san cosme y damian\n",
      "Processing Record 21 of Set 5 | salalah\n",
      "Processing Record 22 of Set 5 | beringovskiy\n",
      "Processing Record 23 of Set 5 | srednekolymsk\n",
      "Processing Record 24 of Set 5 | manaus\n",
      "Processing Record 25 of Set 5 | tommot\n",
      "Processing Record 26 of Set 5 | talnakh\n",
      "Processing Record 27 of Set 5 | trondheim\n",
      "Processing Record 28 of Set 5 | uetze\n",
      "Processing Record 29 of Set 5 | nyurba\n",
      "Processing Record 30 of Set 5 | kabinda\n",
      "Processing Record 31 of Set 5 | cuenca\n",
      "City not found. Skipping...\n",
      "Processing Record 32 of Set 5 | itoman\n",
      "Processing Record 33 of Set 5 | mosquera\n",
      "Processing Record 34 of Set 5 | tiksi\n",
      "Processing Record 35 of Set 5 | hovd\n",
      "Processing Record 36 of Set 5 | lagoa\n",
      "Processing Record 37 of Set 5 | komsomolskiy\n",
      "Processing Record 38 of Set 5 | matay\n",
      "Processing Record 39 of Set 5 | bredasdorp\n",
      "City not found. Skipping...\n",
      "Processing Record 40 of Set 5 | tefe\n",
      "Processing Record 41 of Set 5 | port hedland\n",
      "Processing Record 42 of Set 5 | chekmagush\n",
      "Processing Record 43 of Set 5 | cesena\n",
      "Processing Record 44 of Set 5 | coihaique\n",
      "Processing Record 45 of Set 5 | bambous virieux\n",
      "Processing Record 46 of Set 5 | semey\n",
      "City not found. Skipping...\n",
      "Processing Record 47 of Set 5 | agucadoura\n",
      "Processing Record 48 of Set 5 | homer\n",
      "Processing Record 49 of Set 5 | vidor\n",
      "Processing Record 1 of Set 6 | muscat\n",
      "Processing Record 2 of Set 6 | tromso\n",
      "Processing Record 3 of Set 6 | svobodnyy\n",
      "Processing Record 4 of Set 6 | taltal\n",
      "Processing Record 5 of Set 6 | pangnirtung\n",
      "City not found. Skipping...\n",
      "Processing Record 6 of Set 6 | raga\n",
      "Processing Record 7 of Set 6 | ugoofaaru\n",
      "Processing Record 8 of Set 6 | maputo\n",
      "Processing Record 9 of Set 6 | lerwick\n",
      "Processing Record 10 of Set 6 | suntar\n",
      "Processing Record 11 of Set 6 | port-gentil\n",
      "City not found. Skipping...\n",
      "Processing Record 12 of Set 6 | tianjin\n",
      "Processing Record 13 of Set 6 | dafeng\n",
      "Processing Record 14 of Set 6 | kapit\n",
      "Processing Record 15 of Set 6 | vila franca do campo\n",
      "Processing Record 16 of Set 6 | virginia beach\n",
      "Processing Record 17 of Set 6 | sao filipe\n",
      "City not found. Skipping...\n",
      "Processing Record 18 of Set 6 | orebro\n",
      "Processing Record 19 of Set 6 | tapes\n",
      "Processing Record 20 of Set 6 | goderich\n",
      "Processing Record 21 of Set 6 | baykit\n",
      "City not found. Skipping...\n",
      "Processing Record 22 of Set 6 | colares\n",
      "Processing Record 23 of Set 6 | bronnoysund\n",
      "Processing Record 24 of Set 6 | biloela\n",
      "City not found. Skipping...\n",
      "Processing Record 25 of Set 6 | panaba\n",
      "Processing Record 26 of Set 6 | inirida\n",
      "Processing Record 27 of Set 6 | leh\n",
      "Processing Record 28 of Set 6 | varzea da palma\n",
      "Processing Record 29 of Set 6 | dingle\n",
      "City not found. Skipping...\n",
      "Processing Record 30 of Set 6 | sterling\n",
      "City not found. Skipping...\n",
      "Processing Record 31 of Set 6 | mocuba\n",
      "Processing Record 32 of Set 6 | koulamoutou\n",
      "Processing Record 33 of Set 6 | tilichiki\n",
      "Processing Record 34 of Set 6 | new norfolk\n",
      "Processing Record 35 of Set 6 | hervey bay\n",
      "Processing Record 36 of Set 6 | bonthe\n",
      "Processing Record 37 of Set 6 | byron bay\n",
      "Processing Record 38 of Set 6 | grand island\n",
      "Processing Record 39 of Set 6 | ahipara\n",
      "Processing Record 40 of Set 6 | hualmay\n",
      "Processing Record 41 of Set 6 | murgab\n",
      "Processing Record 42 of Set 6 | cam ranh\n",
      "Processing Record 43 of Set 6 | durango\n",
      "Processing Record 44 of Set 6 | arawa\n",
      "Processing Record 45 of Set 6 | brae\n",
      "Processing Record 46 of Set 6 | forbes\n",
      "Processing Record 47 of Set 6 | hasaki\n",
      "Processing Record 48 of Set 6 | provideniya\n",
      "Processing Record 49 of Set 6 | caravelas\n",
      "Processing Record 1 of Set 7 | mitu\n",
      "Processing Record 2 of Set 7 | tabuk\n",
      "Processing Record 3 of Set 7 | mahajanga\n",
      "Processing Record 4 of Set 7 | mishkino\n",
      "Processing Record 5 of Set 7 | innisfail\n",
      "Processing Record 6 of Set 7 | tucupita\n",
      "City not found. Skipping...\n",
      "Processing Record 7 of Set 7 | murud\n",
      "Processing Record 8 of Set 7 | cairns\n",
      "Processing Record 9 of Set 7 | ngunguru\n",
      "Processing Record 10 of Set 7 | port lincoln\n",
      "Processing Record 11 of Set 7 | san patricio\n",
      "Processing Record 12 of Set 7 | port hardy\n",
      "Processing Record 13 of Set 7 | saint-pierre\n",
      "Processing Record 14 of Set 7 | kousseri\n",
      "Processing Record 15 of Set 7 | kirakira\n",
      "City not found. Skipping...\n",
      "Processing Record 16 of Set 7 | pulandian\n",
      "Processing Record 17 of Set 7 | awjilah\n",
      "Processing Record 18 of Set 7 | bousso\n",
      "Processing Record 19 of Set 7 | eucaliptus\n",
      "Processing Record 20 of Set 7 | zharkent\n",
      "Processing Record 21 of Set 7 | nang rong\n",
      "Processing Record 22 of Set 7 | isangel\n",
      "Processing Record 23 of Set 7 | otradnoye\n",
      "Processing Record 24 of Set 7 | yara\n",
      "Processing Record 25 of Set 7 | pirawa\n",
      "Processing Record 26 of Set 7 | faanui\n",
      "Processing Record 27 of Set 7 | korla\n",
      "Processing Record 28 of Set 7 | riyadh\n",
      "Processing Record 29 of Set 7 | sao joao da barra\n",
      "Processing Record 30 of Set 7 | fort saint james\n",
      "Processing Record 31 of Set 7 | ulladulla\n",
      "City not found. Skipping...\n",
      "Processing Record 32 of Set 7 | oktyabrskoye\n",
      "Processing Record 33 of Set 7 | tessalit\n",
      "Processing Record 34 of Set 7 | albion\n",
      "Processing Record 35 of Set 7 | pacific grove\n",
      "Processing Record 36 of Set 7 | vestmannaeyjar\n",
      "Processing Record 37 of Set 7 | yumen\n",
      "Processing Record 38 of Set 7 | rundu\n",
      "Processing Record 39 of Set 7 | charlestown\n",
      "Processing Record 40 of Set 7 | mitsamiouli\n",
      "Processing Record 41 of Set 7 | pontes e lacerda\n",
      "Processing Record 42 of Set 7 | carutapera\n",
      "Processing Record 43 of Set 7 | petropavlovsk-kamchatskiy\n",
      "Processing Record 44 of Set 7 | muros\n",
      "City not found. Skipping...\n",
      "Processing Record 45 of Set 7 | shimoda\n",
      "Processing Record 46 of Set 7 | launceston\n",
      "Processing Record 47 of Set 7 | fare\n",
      "Processing Record 48 of Set 7 | ampanihy\n",
      "Processing Record 49 of Set 7 | nsukka\n",
      "City not found. Skipping...\n",
      "Processing Record 1 of Set 8 | haibara\n",
      "Processing Record 2 of Set 8 | koltsovo\n",
      "Processing Record 3 of Set 8 | centralia\n",
      "Processing Record 4 of Set 8 | harper\n",
      "Processing Record 5 of Set 8 | alofi\n",
      "Processing Record 6 of Set 8 | thinadhoo\n",
      "Processing Record 7 of Set 8 | ponta do sol\n",
      "Processing Record 8 of Set 8 | tshikapa\n",
      "Processing Record 9 of Set 8 | albania\n",
      "Processing Record 10 of Set 8 | yinchuan\n",
      "Processing Record 11 of Set 8 | tazovskiy\n",
      "Processing Record 12 of Set 8 | mount gambier\n",
      "Processing Record 13 of Set 8 | jojoima\n",
      "Processing Record 14 of Set 8 | acapulco\n",
      "Processing Record 15 of Set 8 | vicuna\n",
      "Processing Record 16 of Set 8 | zambezi\n",
      "Processing Record 17 of Set 8 | visby\n",
      "Processing Record 18 of Set 8 | aksehir\n",
      "Processing Record 19 of Set 8 | nyimba\n",
      "Processing Record 20 of Set 8 | nishihara\n",
      "Processing Record 21 of Set 8 | lincoln\n",
      "Processing Record 22 of Set 8 | breytovo\n",
      "Processing Record 23 of Set 8 | gobo\n",
      "Processing Record 24 of Set 8 | gombe\n",
      "Processing Record 25 of Set 8 | sangar\n",
      "City not found. Skipping...\n",
      "Processing Record 26 of Set 8 | gari\n",
      "Processing Record 27 of Set 8 | ballina\n",
      "Processing Record 28 of Set 8 | valparaiso\n",
      "Processing Record 29 of Set 8 | gallup\n"
     ]
    },
    {
     "name": "stdout",
     "output_type": "stream",
     "text": [
      "Processing Record 30 of Set 8 | anda\n",
      "Processing Record 31 of Set 8 | truro\n",
      "Processing Record 32 of Set 8 | ayan\n",
      "Processing Record 33 of Set 8 | barabai\n",
      "Processing Record 34 of Set 8 | amos\n",
      "Processing Record 35 of Set 8 | mindelo\n",
      "City not found. Skipping...\n",
      "Processing Record 36 of Set 8 | flagstaff\n",
      "Processing Record 37 of Set 8 | nurota\n",
      "City not found. Skipping...\n",
      "Processing Record 38 of Set 8 | ardabil\n",
      "Processing Record 39 of Set 8 | casa grande\n",
      "Processing Record 40 of Set 8 | khani\n",
      "Processing Record 41 of Set 8 | gandorhun\n",
      "Processing Record 42 of Set 8 | neepawa\n",
      "Processing Record 43 of Set 8 | mozarlandia\n",
      "Processing Record 44 of Set 8 | caxito\n",
      "Processing Record 45 of Set 8 | ormara\n",
      "City not found. Skipping...\n",
      "City not found. Skipping...\n",
      "Processing Record 46 of Set 8 | pisco\n",
      "Processing Record 47 of Set 8 | nova olimpia\n",
      "Processing Record 48 of Set 8 | springbok\n",
      "Processing Record 49 of Set 8 | alyangula\n",
      "Processing Record 1 of Set 9 | chhatarpur\n",
      "Processing Record 2 of Set 9 | paamiut\n",
      "Processing Record 3 of Set 9 | hay river\n",
      "Processing Record 4 of Set 9 | valdivia\n",
      "Processing Record 5 of Set 9 | abha\n",
      "Processing Record 6 of Set 9 | wenatchee\n",
      "Processing Record 7 of Set 9 | katobu\n",
      "Processing Record 8 of Set 9 | abadan\n",
      "Processing Record 9 of Set 9 | yilan\n",
      "Processing Record 10 of Set 9 | baraboo\n",
      "Processing Record 11 of Set 9 | cuilco\n",
      "Processing Record 12 of Set 9 | zacualpan\n",
      "Processing Record 13 of Set 9 | vieux-habitants\n",
      "Processing Record 14 of Set 9 | rupert\n",
      "City not found. Skipping...\n",
      "Processing Record 15 of Set 9 | baherden\n",
      "Processing Record 16 of Set 9 | shitanjing\n",
      "Processing Record 17 of Set 9 | altay\n",
      "Processing Record 18 of Set 9 | santiago\n",
      "Processing Record 19 of Set 9 | vestmanna\n",
      "Processing Record 20 of Set 9 | mtwara\n",
      "Processing Record 21 of Set 9 | palora\n",
      "Processing Record 22 of Set 9 | daragutan\n",
      "Processing Record 23 of Set 9 | adre\n",
      "Processing Record 24 of Set 9 | guiratinga\n",
      "Processing Record 25 of Set 9 | san jose\n",
      "Processing Record 26 of Set 9 | peleduy\n",
      "Processing Record 27 of Set 9 | minot\n",
      "Processing Record 28 of Set 9 | sur\n",
      "Processing Record 29 of Set 9 | cabo san lucas\n",
      "Processing Record 30 of Set 9 | pierre\n",
      "Processing Record 31 of Set 9 | vanimo\n",
      "Processing Record 32 of Set 9 | gagnoa\n",
      "Processing Record 33 of Set 9 | guanica\n",
      "Processing Record 34 of Set 9 | kavaratti\n",
      "Processing Record 35 of Set 9 | villers-les-nancy\n",
      "Processing Record 36 of Set 9 | honggang\n",
      "Processing Record 37 of Set 9 | tateyama\n",
      "Processing Record 38 of Set 9 | natal\n",
      "Processing Record 39 of Set 9 | stephenville\n",
      "Processing Record 40 of Set 9 | lompoc\n",
      "City not found. Skipping...\n",
      "Processing Record 41 of Set 9 | kurumkan\n",
      "Processing Record 42 of Set 9 | lakes entrance\n",
      "Processing Record 43 of Set 9 | santo antonio do ica\n",
      "Processing Record 44 of Set 9 | manta\n",
      "Processing Record 45 of Set 9 | albert\n",
      "City not found. Skipping...\n",
      "Processing Record 46 of Set 9 | shetpe\n",
      "Processing Record 47 of Set 9 | luau\n",
      "Processing Record 48 of Set 9 | ouesso\n",
      "Processing Record 49 of Set 9 | gorontalo\n",
      "Processing Record 1 of Set 10 | san juan\n",
      "Processing Record 2 of Set 10 | aras\n",
      "Processing Record 3 of Set 10 | angoche\n",
      "City not found. Skipping...\n",
      "Processing Record 4 of Set 10 | mecca\n",
      "City not found. Skipping...\n",
      "Processing Record 5 of Set 10 | ljig\n",
      "Processing Record 6 of Set 10 | alice springs\n",
      "City not found. Skipping...\n",
      "Processing Record 7 of Set 10 | kamenka\n",
      "Processing Record 8 of Set 10 | haveli\n",
      "Processing Record 9 of Set 10 | lira\n",
      "City not found. Skipping...\n",
      "Processing Record 10 of Set 10 | prince rupert\n",
      "Processing Record 11 of Set 10 | togur\n",
      "Processing Record 12 of Set 10 | burns lake\n",
      "Processing Record 13 of Set 10 | hohhot\n",
      "City not found. Skipping...\n",
      "Processing Record 14 of Set 10 | marsh harbour\n",
      "Processing Record 15 of Set 10 | yar-sale\n",
      "Processing Record 16 of Set 10 | svetlogorsk\n",
      "Processing Record 17 of Set 10 | eydhafushi\n",
      "Processing Record 18 of Set 10 | rio muerto\n",
      "Processing Record 19 of Set 10 | tura\n",
      "Processing Record 20 of Set 10 | bilma\n",
      "Processing Record 21 of Set 10 | kaohsiung\n",
      "City not found. Skipping...\n",
      "Processing Record 22 of Set 10 | mataram\n",
      "Processing Record 23 of Set 10 | wanning\n",
      "Processing Record 24 of Set 10 | tabou\n",
      "Processing Record 25 of Set 10 | solnechnyy\n",
      "Processing Record 26 of Set 10 | fayaoue\n",
      "City not found. Skipping...\n",
      "City not found. Skipping...\n",
      "Processing Record 27 of Set 10 | iuna\n",
      "Processing Record 28 of Set 10 | port augusta\n",
      "Processing Record 29 of Set 10 | bireun\n",
      "Processing Record 30 of Set 10 | zlitan\n",
      "Processing Record 31 of Set 10 | sao joao do paraiso\n",
      "Processing Record 32 of Set 10 | khash\n",
      "Processing Record 33 of Set 10 | shache\n",
      "City not found. Skipping...\n",
      "Processing Record 34 of Set 10 | mildura\n",
      "City not found. Skipping...\n",
      "Processing Record 35 of Set 10 | roald\n",
      "Processing Record 36 of Set 10 | buraydah\n",
      "Processing Record 37 of Set 10 | portalegre\n",
      "Processing Record 38 of Set 10 | lasa\n",
      "Processing Record 39 of Set 10 | saint-georges\n",
      "City not found. Skipping...\n",
      "City not found. Skipping...\n",
      "Processing Record 40 of Set 10 | bozova\n",
      "City not found. Skipping...\n",
      "Processing Record 41 of Set 10 | pudozh\n",
      "Processing Record 42 of Set 10 | kruisfontein\n",
      "Processing Record 43 of Set 10 | honiara\n",
      "Processing Record 44 of Set 10 | okhotsk\n",
      "Processing Record 45 of Set 10 | east wenatchee\n",
      "Processing Record 46 of Set 10 | codrington\n",
      "Processing Record 47 of Set 10 | phangnga\n",
      "Processing Record 48 of Set 10 | portoferraio\n",
      "Processing Record 49 of Set 10 | pitimbu\n",
      "Processing Record 1 of Set 11 | inhambane\n",
      "Processing Record 2 of Set 11 | niquero\n",
      "Processing Record 3 of Set 11 | masallatah\n",
      "Processing Record 4 of Set 11 | bandarbeyla\n",
      "Processing Record 5 of Set 11 | eyl\n",
      "Processing Record 6 of Set 11 | albacete\n",
      "Processing Record 7 of Set 11 | north branch\n",
      "City not found. Skipping...\n",
      "Processing Record 8 of Set 11 | kashan\n",
      "Processing Record 9 of Set 11 | babu\n",
      "Processing Record 10 of Set 11 | adrar\n",
      "Processing Record 11 of Set 11 | samarinda\n",
      "Processing Record 12 of Set 11 | buena vista\n",
      "Processing Record 13 of Set 11 | rudbar\n",
      "Processing Record 14 of Set 11 | erzin\n",
      "City not found. Skipping...\n",
      "------------------------------\n",
      "Data Retrieval Complete\n",
      "------------------------------\n"
     ]
    }
   ],
   "source": [
    "# define url\n",
    "query_url = f\"http://api.openweathermap.org/data/2.5/weather?appid={weather_api_key}&units={units}&q=\"\n",
    "\n",
    "# define count of pass throughs\n",
    "count_one = 0\n",
    "set_one = 1\n",
    "\n",
    "# set lists for the dataframe\n",
    "city_two = []\n",
    "cloudinesses = []\n",
    "dates = []\n",
    "humidities = []\n",
    "lats = []\n",
    "lngs = []\n",
    "max_temps = []\n",
    "wind_speeds = []\n",
    "countries = []\n",
    "\n",
    "# set initial count quantities for organization\n",
    "count_one = 0\n",
    "set_one = 1\n",
    "\n",
    "print(\"Beginning Data Retrieval\\n------------------------------\")\n",
    "\n",
    "# loops for creating dataframe columns\n",
    "for city in cities:\n",
    "    try:\n",
    "        response = requests.get(query_url + city.replace(\" \",\"&\")).json()\n",
    "        cloudinesses.append(response['clouds']['all'])\n",
    "        countries.append(response['sys']['country'])\n",
    "        dates.append(response['dt'])\n",
    "        humidities.append(response['main']['humidity'])\n",
    "        lats.append(response['coord']['lat'])\n",
    "        lngs.append(response['coord']['lon'])\n",
    "        max_temps.append(response['main']['temp_max'])\n",
    "        wind_speeds.append(response['wind']['speed'])\n",
    "        if count_one > 48:\n",
    "            count_one = 1\n",
    "            set_one += 1\n",
    "            city_two.append(city)\n",
    "        else:\n",
    "            count_one += 1\n",
    "            city_two.append(city)\n",
    "        print(f\"Processing Record {count_one} of Set {set_one} | {city}\")\n",
    "    except Exception:\n",
    "        print(\"City not found. Skipping...\")\n",
    "print(\"------------------------------\\nData Retrieval Complete\\n------------------------------\")"
   ]
  },
  {
   "cell_type": "markdown",
   "metadata": {},
   "source": [
    "### Convert Raw Data to DataFrame\n",
    "* Export the city data into a .csv.\n",
    "* Display the DataFrame"
   ]
  },
  {
   "cell_type": "code",
   "execution_count": 4,
   "metadata": {},
   "outputs": [
    {
     "data": {
      "text/plain": [
       "City          504\n",
       "Lat           504\n",
       "Lng           504\n",
       "Max Temp      504\n",
       "Humidity      504\n",
       "Cloudiness    504\n",
       "Wind Speed    504\n",
       "Country       504\n",
       "Date          504\n",
       "dtype: int64"
      ]
     },
     "execution_count": 4,
     "metadata": {},
     "output_type": "execute_result"
    }
   ],
   "source": [
    "# create a dictionary for establishing dataframe\n",
    "weather_dict = {\n",
    "    \"City\":city_two,\n",
    "    \"Lat\":lats,\n",
    "    \"Lng\":lngs,\n",
    "    \"Max Temp\":max_temps,\n",
    "    \"Humidity\":humidities,\n",
    "    \"Cloudiness\":cloudinesses,\n",
    "    \"Wind Speed\":wind_speeds,\n",
    "    \"Country\":countries,\n",
    "    \"Date\":dates,    \n",
    "}\n",
    "\n",
    "# establish dataframe\n",
    "weather_df = pd.DataFrame(weather_dict)\n",
    "\n",
    "#export to CSV\n",
    "weather_df.to_csv(\"../output_data/cities.csv\", index = False)\n",
    "\n",
    "#data frame count\n",
    "weather_df.count()"
   ]
  },
  {
   "cell_type": "code",
   "execution_count": 5,
   "metadata": {},
   "outputs": [
    {
     "data": {
      "text/html": [
       "<div>\n",
       "<style scoped>\n",
       "    .dataframe tbody tr th:only-of-type {\n",
       "        vertical-align: middle;\n",
       "    }\n",
       "\n",
       "    .dataframe tbody tr th {\n",
       "        vertical-align: top;\n",
       "    }\n",
       "\n",
       "    .dataframe thead th {\n",
       "        text-align: right;\n",
       "    }\n",
       "</style>\n",
       "<table border=\"1\" class=\"dataframe\">\n",
       "  <thead>\n",
       "    <tr style=\"text-align: right;\">\n",
       "      <th></th>\n",
       "      <th>City</th>\n",
       "      <th>Lat</th>\n",
       "      <th>Lng</th>\n",
       "      <th>Max Temp</th>\n",
       "      <th>Humidity</th>\n",
       "      <th>Cloudiness</th>\n",
       "      <th>Wind Speed</th>\n",
       "      <th>Country</th>\n",
       "      <th>Date</th>\n",
       "    </tr>\n",
       "  </thead>\n",
       "  <tbody>\n",
       "    <tr>\n",
       "      <th>0</th>\n",
       "      <td>souillac</td>\n",
       "      <td>-20.52</td>\n",
       "      <td>57.52</td>\n",
       "      <td>69.80</td>\n",
       "      <td>64</td>\n",
       "      <td>75</td>\n",
       "      <td>17.22</td>\n",
       "      <td>MU</td>\n",
       "      <td>1596434116</td>\n",
       "    </tr>\n",
       "    <tr>\n",
       "      <th>1</th>\n",
       "      <td>saint-joseph</td>\n",
       "      <td>-21.37</td>\n",
       "      <td>55.62</td>\n",
       "      <td>69.80</td>\n",
       "      <td>64</td>\n",
       "      <td>90</td>\n",
       "      <td>18.34</td>\n",
       "      <td>RE</td>\n",
       "      <td>1596434116</td>\n",
       "    </tr>\n",
       "    <tr>\n",
       "      <th>2</th>\n",
       "      <td>busselton</td>\n",
       "      <td>-33.65</td>\n",
       "      <td>115.33</td>\n",
       "      <td>57.99</td>\n",
       "      <td>64</td>\n",
       "      <td>20</td>\n",
       "      <td>9.69</td>\n",
       "      <td>AU</td>\n",
       "      <td>1596434014</td>\n",
       "    </tr>\n",
       "    <tr>\n",
       "      <th>3</th>\n",
       "      <td>luksuhin</td>\n",
       "      <td>14.10</td>\n",
       "      <td>120.88</td>\n",
       "      <td>93.99</td>\n",
       "      <td>58</td>\n",
       "      <td>96</td>\n",
       "      <td>9.17</td>\n",
       "      <td>PH</td>\n",
       "      <td>1596434116</td>\n",
       "    </tr>\n",
       "    <tr>\n",
       "      <th>4</th>\n",
       "      <td>batagay</td>\n",
       "      <td>67.63</td>\n",
       "      <td>134.63</td>\n",
       "      <td>69.30</td>\n",
       "      <td>38</td>\n",
       "      <td>99</td>\n",
       "      <td>7.63</td>\n",
       "      <td>RU</td>\n",
       "      <td>1596434116</td>\n",
       "    </tr>\n",
       "  </tbody>\n",
       "</table>\n",
       "</div>"
      ],
      "text/plain": [
       "           City    Lat     Lng  Max Temp  Humidity  Cloudiness  Wind Speed  \\\n",
       "0      souillac -20.52   57.52     69.80        64          75       17.22   \n",
       "1  saint-joseph -21.37   55.62     69.80        64          90       18.34   \n",
       "2     busselton -33.65  115.33     57.99        64          20        9.69   \n",
       "3      luksuhin  14.10  120.88     93.99        58          96        9.17   \n",
       "4       batagay  67.63  134.63     69.30        38          99        7.63   \n",
       "\n",
       "  Country        Date  \n",
       "0      MU  1596434116  \n",
       "1      RE  1596434116  \n",
       "2      AU  1596434014  \n",
       "3      PH  1596434116  \n",
       "4      RU  1596434116  "
      ]
     },
     "execution_count": 5,
     "metadata": {},
     "output_type": "execute_result"
    }
   ],
   "source": [
    "weather_df.head()"
   ]
  },
  {
   "cell_type": "markdown",
   "metadata": {},
   "source": [
    "## Inspect the data and remove the cities where the humidity > 100%.\n",
    "----\n",
    "Skip this step if there are no cities that have humidity > 100%. "
   ]
  },
  {
   "cell_type": "code",
   "execution_count": 6,
   "metadata": {},
   "outputs": [
    {
     "data": {
      "text/html": [
       "<div>\n",
       "<style scoped>\n",
       "    .dataframe tbody tr th:only-of-type {\n",
       "        vertical-align: middle;\n",
       "    }\n",
       "\n",
       "    .dataframe tbody tr th {\n",
       "        vertical-align: top;\n",
       "    }\n",
       "\n",
       "    .dataframe thead th {\n",
       "        text-align: right;\n",
       "    }\n",
       "</style>\n",
       "<table border=\"1\" class=\"dataframe\">\n",
       "  <thead>\n",
       "    <tr style=\"text-align: right;\">\n",
       "      <th></th>\n",
       "      <th>City</th>\n",
       "      <th>Lat</th>\n",
       "      <th>Lng</th>\n",
       "      <th>Max Temp</th>\n",
       "      <th>Humidity</th>\n",
       "      <th>Cloudiness</th>\n",
       "      <th>Wind Speed</th>\n",
       "      <th>Country</th>\n",
       "      <th>Date</th>\n",
       "    </tr>\n",
       "  </thead>\n",
       "  <tbody>\n",
       "  </tbody>\n",
       "</table>\n",
       "</div>"
      ],
      "text/plain": [
       "Empty DataFrame\n",
       "Columns: [City, Lat, Lng, Max Temp, Humidity, Cloudiness, Wind Speed, Country, Date]\n",
       "Index: []"
      ]
     },
     "execution_count": 6,
     "metadata": {},
     "output_type": "execute_result"
    }
   ],
   "source": [
    "#check any Humidity over 100\n",
    "weather_df.loc[weather_df['Humidity'] > 100]"
   ]
  },
  {
   "cell_type": "code",
   "execution_count": 7,
   "metadata": {},
   "outputs": [],
   "source": [
    "#  Get the indices of cities that have humidity over 100%.\n"
   ]
  },
  {
   "cell_type": "code",
   "execution_count": 8,
   "metadata": {},
   "outputs": [],
   "source": [
    "# Make a new DataFrame equal to the city data to drop all humidity outliers by index.\n",
    "# Passing \"inplace=False\" will make a copy of the city_data DataFrame, which we call \"clean_city_data\".\n"
   ]
  },
  {
   "cell_type": "code",
   "execution_count": 9,
   "metadata": {},
   "outputs": [],
   "source": [
    "# Extract relevant fields from the data frame\n",
    "\n",
    "\n",
    "# Export the City_Data into a csv\n"
   ]
  },
  {
   "cell_type": "markdown",
   "metadata": {},
   "source": [
    "## Plotting the Data\n",
    "* Use proper labeling of the plots using plot titles (including date of analysis) and axes labels.\n",
    "* Save the plotted figures as .pngs."
   ]
  },
  {
   "cell_type": "markdown",
   "metadata": {},
   "source": [
    "## Latitude vs. Temperature Plot"
   ]
  },
  {
   "cell_type": "code",
   "execution_count": 10,
   "metadata": {
    "scrolled": true
   },
   "outputs": [
    {
     "data": {
      "image/png": "[encoded data removed]",
      "text/plain": [
       "<Figure size 432x288 with 1 Axes>"
      ]
     },
     "metadata": {
      "needs_background": "light"
     },
     "output_type": "display_data"
    }
   ],
   "source": [
    "# scatter plot\n",
    "plt.scatter(weather_df[\"Lat\"], weather_df[\"Max Temp\"], marker=\"o\", edgecolors=\"black\",facecolors=\"skyblue\" )\n",
    "plt.title(f'City Latitude vs. Max Temperature {time.strftime(\"%m/%d/%Y\")}')\n",
    "plt.ylabel(\"Temperature (F)\")\n",
    "plt.xlabel(\"Latitude\")\n",
    "plt.grid(True)\n",
    "\n",
    "# save figure\n",
    "plt.savefig(\"../output_data/City Latitude vs. Max Temperature.png\")\n",
    "\n",
    "# show plot\n",
    "plt.show()"
   ]
  },
  {
   "cell_type": "markdown",
   "metadata": {},
   "source": [
    "### This plot shows that the closer a city is to the equator the greater the temperature. "
   ]
  },
  {
   "cell_type": "markdown",
   "metadata": {},
   "source": [
    "## Latitude vs. Humidity Plot"
   ]
  },
  {
   "cell_type": "code",
   "execution_count": 11,
   "metadata": {},
   "outputs": [
    {
     "data": {
      "image/png": "[encoded data removed]",
      "text/plain": [
       "<Figure size 432x288 with 1 Axes>"
      ]
     },
     "metadata": {
      "needs_background": "light"
     },
     "output_type": "display_data"
    }
   ],
   "source": [
    "# scatter plot\n",
    "plt.scatter(weather_df[\"Lat\"], weather_df[\"Humidity\"], marker=\"o\", edgecolors=\"black\",facecolors=\"skyblue\")\n",
    "plt.title(f'City Latitude vs. Humidity {time.strftime(\"%m/%d/%Y\")}')\n",
    "plt.ylabel(\"Humidity\")\n",
    "plt.xlabel(\"Latitude\")\n",
    "plt.grid(True)\n",
    "\n",
    "# save figure\n",
    "plt.savefig(\"../output_data/City Latitude vs. Humidity.png\")\n",
    "\n",
    "# show plot\n",
    "plt.show()"
   ]
  },
  {
   "cell_type": "markdown",
   "metadata": {},
   "source": [
    "### This plot shows that humidity is relativley the high at all latitudes. "
   ]
  },
  {
   "cell_type": "markdown",
   "metadata": {},
   "source": [
    "## Latitude vs. Cloudiness Plot"
   ]
  },
  {
   "cell_type": "code",
   "execution_count": 12,
   "metadata": {},
   "outputs": [
    {
     "data": {
      "image/png": "[encoded data removed]",
      "text/plain": [
       "<Figure size 432x288 with 1 Axes>"
      ]
     },
     "metadata": {
      "needs_background": "light"
     },
     "output_type": "display_data"
    }
   ],
   "source": [
    "# scatter plot \n",
    "plt.scatter(weather_df[\"Lat\"], weather_df[\"Cloudiness\"], marker=\"o\", edgecolors=\"black\",facecolors=\"skyblue\" )\n",
    "plt.title(f'City Latitude vs. Cloudiness {time.strftime(\"%m/%d/%Y\")}')\n",
    "plt.ylabel(\"Cloudiness\")\n",
    "plt.xlabel(\"Latitude\")\n",
    "plt.grid(True)\n",
    "\n",
    "# save figure\n",
    "plt.savefig(\"../output_data/City Latitude vs. Cloudiness.png\")\n",
    "\n",
    "# show plot\n",
    "plt.show()"
   ]
  },
  {
   "cell_type": "markdown",
   "metadata": {},
   "source": [
    "### This plot shows that cloudiness isn't really impacted by the latitude of a city. Cloudiness can vary widely. "
   ]
  },
  {
   "cell_type": "markdown",
   "metadata": {},
   "source": [
    "## Latitude vs. Wind Speed Plot"
   ]
  },
  {
   "cell_type": "code",
   "execution_count": 13,
   "metadata": {},
   "outputs": [
    {
     "data": {
      "image/png": "[encoded data removed]",
      "text/plain": [
       "<Figure size 432x288 with 1 Axes>"
      ]
     },
     "metadata": {
      "needs_background": "light"
     },
     "output_type": "display_data"
    }
   ],
   "source": [
    "# Build a scatter plot for each data type\n",
    "plt.scatter(weather_df[\"Lat\"], weather_df[\"Wind Speed\"], marker=\"o\",edgecolors=\"black\",facecolors=\"skyblue\" )\n",
    "\n",
    "# Incorporate the other graph properties\n",
    "plt.title(f'City Latitude vs. Wind Speed {time.strftime(\"%m/%d/%Y\")}')\n",
    "plt.ylabel(\"Wind Speed\")\n",
    "plt.xlabel(\"Latitude\")\n",
    "plt.grid(True)\n",
    "\n",
    "# Save the figure\n",
    "plt.savefig(\"../output_data/City Latitude vs. Cloudiness.png\")\n",
    "\n",
    "# Show plot\n",
    "plt.show()"
   ]
  },
  {
   "cell_type": "markdown",
   "metadata": {},
   "source": [
    "### This plot shows that wind speeds are pretty uniform across latitude's. It does have a highter concentration of lower wind speeds around a latitude of 40. "
   ]
  },
  {
   "cell_type": "markdown",
   "metadata": {},
   "source": [
    "## Linear Regression"
   ]
  },
  {
   "cell_type": "code",
   "execution_count": 14,
   "metadata": {},
   "outputs": [],
   "source": [
    "# OPTIONAL: Create a function to create Linear Regression plots"
   ]
  },
  {
   "cell_type": "code",
   "execution_count": 15,
   "metadata": {},
   "outputs": [
    {
     "data": {
      "text/html": [
       "<div>\n",
       "<style scoped>\n",
       "    .dataframe tbody tr th:only-of-type {\n",
       "        vertical-align: middle;\n",
       "    }\n",
       "\n",
       "    .dataframe tbody tr th {\n",
       "        vertical-align: top;\n",
       "    }\n",
       "\n",
       "    .dataframe thead th {\n",
       "        text-align: right;\n",
       "    }\n",
       "</style>\n",
       "<table border=\"1\" class=\"dataframe\">\n",
       "  <thead>\n",
       "    <tr style=\"text-align: right;\">\n",
       "      <th></th>\n",
       "      <th>City</th>\n",
       "      <th>Lat</th>\n",
       "      <th>Lng</th>\n",
       "      <th>Max Temp</th>\n",
       "      <th>Humidity</th>\n",
       "      <th>Cloudiness</th>\n",
       "      <th>Wind Speed</th>\n",
       "      <th>Country</th>\n",
       "      <th>Date</th>\n",
       "    </tr>\n",
       "  </thead>\n",
       "  <tbody>\n",
       "    <tr>\n",
       "      <th>3</th>\n",
       "      <td>luksuhin</td>\n",
       "      <td>14.10</td>\n",
       "      <td>120.88</td>\n",
       "      <td>93.99</td>\n",
       "      <td>58</td>\n",
       "      <td>96</td>\n",
       "      <td>9.17</td>\n",
       "      <td>PH</td>\n",
       "      <td>1596434116</td>\n",
       "    </tr>\n",
       "    <tr>\n",
       "      <th>4</th>\n",
       "      <td>batagay</td>\n",
       "      <td>67.63</td>\n",
       "      <td>134.63</td>\n",
       "      <td>69.30</td>\n",
       "      <td>38</td>\n",
       "      <td>99</td>\n",
       "      <td>7.63</td>\n",
       "      <td>RU</td>\n",
       "      <td>1596434116</td>\n",
       "    </tr>\n",
       "    <tr>\n",
       "      <th>5</th>\n",
       "      <td>ketchikan</td>\n",
       "      <td>55.34</td>\n",
       "      <td>-131.65</td>\n",
       "      <td>57.20</td>\n",
       "      <td>100</td>\n",
       "      <td>90</td>\n",
       "      <td>6.93</td>\n",
       "      <td>US</td>\n",
       "      <td>1596434030</td>\n",
       "    </tr>\n",
       "    <tr>\n",
       "      <th>6</th>\n",
       "      <td>yellowknife</td>\n",
       "      <td>62.46</td>\n",
       "      <td>-114.35</td>\n",
       "      <td>75.00</td>\n",
       "      <td>82</td>\n",
       "      <td>40</td>\n",
       "      <td>5.82</td>\n",
       "      <td>CA</td>\n",
       "      <td>1596434116</td>\n",
       "    </tr>\n",
       "    <tr>\n",
       "      <th>13</th>\n",
       "      <td>jamestown</td>\n",
       "      <td>42.10</td>\n",
       "      <td>-79.24</td>\n",
       "      <td>64.99</td>\n",
       "      <td>100</td>\n",
       "      <td>90</td>\n",
       "      <td>9.17</td>\n",
       "      <td>US</td>\n",
       "      <td>1596434117</td>\n",
       "    </tr>\n",
       "  </tbody>\n",
       "</table>\n",
       "</div>"
      ],
      "text/plain": [
       "           City    Lat     Lng  Max Temp  Humidity  Cloudiness  Wind Speed  \\\n",
       "3      luksuhin  14.10  120.88     93.99        58          96        9.17   \n",
       "4       batagay  67.63  134.63     69.30        38          99        7.63   \n",
       "5     ketchikan  55.34 -131.65     57.20       100          90        6.93   \n",
       "6   yellowknife  62.46 -114.35     75.00        82          40        5.82   \n",
       "13    jamestown  42.10  -79.24     64.99       100          90        9.17   \n",
       "\n",
       "   Country        Date  \n",
       "3       PH  1596434116  \n",
       "4       RU  1596434116  \n",
       "5       US  1596434030  \n",
       "6       CA  1596434116  \n",
       "13      US  1596434117  "
      ]
     },
     "execution_count": 15,
     "metadata": {},
     "output_type": "execute_result"
    }
   ],
   "source": [
    "# Create Northern and Southern Hemisphere DataFrames\n",
    "northern_hemi = weather_df.loc[weather_df[\"Lat\"] >= 0]\n",
    "northern_hemi.head()"
   ]
  },
  {
   "cell_type": "code",
   "execution_count": 16,
   "metadata": {},
   "outputs": [
    {
     "data": {
      "text/html": [
       "<div>\n",
       "<style scoped>\n",
       "    .dataframe tbody tr th:only-of-type {\n",
       "        vertical-align: middle;\n",
       "    }\n",
       "\n",
       "    .dataframe tbody tr th {\n",
       "        vertical-align: top;\n",
       "    }\n",
       "\n",
       "    .dataframe thead th {\n",
       "        text-align: right;\n",
       "    }\n",
       "</style>\n",
       "<table border=\"1\" class=\"dataframe\">\n",
       "  <thead>\n",
       "    <tr style=\"text-align: right;\">\n",
       "      <th></th>\n",
       "      <th>City</th>\n",
       "      <th>Lat</th>\n",
       "      <th>Lng</th>\n",
       "      <th>Max Temp</th>\n",
       "      <th>Humidity</th>\n",
       "      <th>Cloudiness</th>\n",
       "      <th>Wind Speed</th>\n",
       "      <th>Country</th>\n",
       "      <th>Date</th>\n",
       "    </tr>\n",
       "  </thead>\n",
       "  <tbody>\n",
       "    <tr>\n",
       "      <th>0</th>\n",
       "      <td>souillac</td>\n",
       "      <td>-20.52</td>\n",
       "      <td>57.52</td>\n",
       "      <td>69.80</td>\n",
       "      <td>64</td>\n",
       "      <td>75</td>\n",
       "      <td>17.22</td>\n",
       "      <td>MU</td>\n",
       "      <td>1596434116</td>\n",
       "    </tr>\n",
       "    <tr>\n",
       "      <th>1</th>\n",
       "      <td>saint-joseph</td>\n",
       "      <td>-21.37</td>\n",
       "      <td>55.62</td>\n",
       "      <td>69.80</td>\n",
       "      <td>64</td>\n",
       "      <td>90</td>\n",
       "      <td>18.34</td>\n",
       "      <td>RE</td>\n",
       "      <td>1596434116</td>\n",
       "    </tr>\n",
       "    <tr>\n",
       "      <th>2</th>\n",
       "      <td>busselton</td>\n",
       "      <td>-33.65</td>\n",
       "      <td>115.33</td>\n",
       "      <td>57.99</td>\n",
       "      <td>64</td>\n",
       "      <td>20</td>\n",
       "      <td>9.69</td>\n",
       "      <td>AU</td>\n",
       "      <td>1596434014</td>\n",
       "    </tr>\n",
       "    <tr>\n",
       "      <th>7</th>\n",
       "      <td>bluff</td>\n",
       "      <td>-46.60</td>\n",
       "      <td>168.33</td>\n",
       "      <td>49.84</td>\n",
       "      <td>83</td>\n",
       "      <td>100</td>\n",
       "      <td>2.24</td>\n",
       "      <td>NZ</td>\n",
       "      <td>1596434116</td>\n",
       "    </tr>\n",
       "    <tr>\n",
       "      <th>8</th>\n",
       "      <td>belmonte</td>\n",
       "      <td>-15.86</td>\n",
       "      <td>-38.88</td>\n",
       "      <td>64.40</td>\n",
       "      <td>82</td>\n",
       "      <td>75</td>\n",
       "      <td>8.05</td>\n",
       "      <td>BR</td>\n",
       "      <td>1596434117</td>\n",
       "    </tr>\n",
       "  </tbody>\n",
       "</table>\n",
       "</div>"
      ],
      "text/plain": [
       "           City    Lat     Lng  Max Temp  Humidity  Cloudiness  Wind Speed  \\\n",
       "0      souillac -20.52   57.52     69.80        64          75       17.22   \n",
       "1  saint-joseph -21.37   55.62     69.80        64          90       18.34   \n",
       "2     busselton -33.65  115.33     57.99        64          20        9.69   \n",
       "7         bluff -46.60  168.33     49.84        83         100        2.24   \n",
       "8      belmonte -15.86  -38.88     64.40        82          75        8.05   \n",
       "\n",
       "  Country        Date  \n",
       "0      MU  1596434116  \n",
       "1      RE  1596434116  \n",
       "2      AU  1596434014  \n",
       "7      NZ  1596434116  \n",
       "8      BR  1596434117  "
      ]
     },
     "execution_count": 16,
     "metadata": {},
     "output_type": "execute_result"
    }
   ],
   "source": [
    "southern_hemi = weather_df.loc[weather_df[\"Lat\"] < 0]\n",
    "southern_hemi.head()"
   ]
  },
  {
   "cell_type": "markdown",
   "metadata": {},
   "source": [
    "####  Northern Hemisphere - Max Temp vs. Latitude Linear Regression"
   ]
  },
  {
   "cell_type": "code",
   "execution_count": 17,
   "metadata": {},
   "outputs": [
    {
     "name": "stdout",
     "output_type": "stream",
     "text": [
      "The r-squared is: 0.36602151379138215\n"
     ]
    },
    {
     "data": {
      "image/png": "[encoded data removed]",
      "text/plain": [
       "<Figure size 432x288 with 1 Axes>"
      ]
     },
     "metadata": {
      "needs_background": "light"
     },
     "output_type": "display_data"
    }
   ],
   "source": [
    "x_values = northern_hemi['Lat']\n",
    "y_values = northern_hemi['Max Temp']\n",
    "(slope, intercept, rvalue, pvalue, stderr) = linregress(x_values, y_values)\n",
    "regress_values = x_values * slope + intercept\n",
    "line_eq = \"y = \" + str(round(slope,2)) + \"x + \" + str(round(intercept,2))\n",
    "plt.scatter(x_values,y_values)\n",
    "plt.plot(x_values,regress_values,\"r-\")\n",
    "plt.annotate(line_eq,(6,10),fontsize=15,color=\"red\")\n",
    "plt.xlabel('Latitude')\n",
    "plt.ylabel('Max Temp')\n",
    "print(f\"The r-squared is: {rvalue**2}\")\n",
    "\n",
    "# Save the figure\n",
    "plt.savefig(\"../output_data/Northern Hemi - Max Temp vs. Latitude.png\")\n",
    "\n",
    "\n",
    "#plot\n",
    "plt.show()"
   ]
  },
  {
   "cell_type": "markdown",
   "metadata": {},
   "source": [
    "####  Southern Hemisphere - Max Temp vs. Latitude Linear Regression"
   ]
  },
  {
   "cell_type": "code",
   "execution_count": 18,
   "metadata": {},
   "outputs": [
    {
     "name": "stdout",
     "output_type": "stream",
     "text": [
      "The r-squared is: 0.512392261666042\n"
     ]
    },
    {
     "data": {
      "image/png": "[encoded data removed]",
      "text/plain": [
       "<Figure size 432x288 with 1 Axes>"
      ]
     },
     "metadata": {
      "needs_background": "light"
     },
     "output_type": "display_data"
    }
   ],
   "source": [
    "x_values = southern_hemi['Lat']\n",
    "y_values = southern_hemi['Max Temp']\n",
    "(slope, intercept, rvalue, pvalue, stderr) = linregress(x_values, y_values)\n",
    "regress_values = x_values * slope + intercept\n",
    "line_eq = \"y = \" + str(round(slope,2)) + \"x + \" + str(round(intercept,2))\n",
    "plt.scatter(x_values,y_values)\n",
    "plt.plot(x_values,regress_values,\"r-\")\n",
    "plt.annotate(line_eq,(6,10),fontsize=15,color=\"red\")\n",
    "plt.xlabel('Latitude')\n",
    "plt.ylabel('Max Temp')\n",
    "print(f\"The r-squared is: {rvalue**2}\")\n",
    "\n",
    "# Save the figure\n",
    "plt.savefig(\"../output_data/Southern Hemi - Max Temp vs. Latitude.png\")\n",
    "\n",
    "\n",
    "#plot\n",
    "plt.show()"
   ]
  },
  {
   "cell_type": "markdown",
   "metadata": {},
   "source": [
    "####  Northern Hemisphere - Humidity (%) vs. Latitude Linear Regression"
   ]
  },
  {
   "cell_type": "code",
   "execution_count": 19,
   "metadata": {},
   "outputs": [
    {
     "name": "stdout",
     "output_type": "stream",
     "text": [
      "The r-squared is: 0.36602151379138215\n"
     ]
    },
    {
     "data": {
      "image/png": "[encoded data removed]",
      "text/plain": [
       "<Figure size 432x288 with 1 Axes>"
      ]
     },
     "metadata": {
      "needs_background": "light"
     },
     "output_type": "display_data"
    }
   ],
   "source": [
    "x_values = northern_hemi['Lat']\n",
    "y_values = northern_hemi['Max Temp']\n",
    "(slope, intercept, rvalue, pvalue, stderr) = linregress(x_values, y_values)\n",
    "regress_values = x_values * slope + intercept\n",
    "line_eq = \"y = \" + str(round(slope,2)) + \"x + \" + str(round(intercept,2))\n",
    "plt.scatter(x_values,y_values)\n",
    "plt.plot(x_values,regress_values,\"r-\")\n",
    "plt.annotate(line_eq,(6,10),fontsize=15,color=\"red\")\n",
    "plt.xlabel('Latitude')\n",
    "plt.ylabel('Humidity')\n",
    "print(f\"The r-squared is: {rvalue**2}\")\n",
    "\n",
    "# Save the figure\n",
    "plt.savefig(\"../output_data/Northern Hemi - Humidity vs. Latitude.png\")\n",
    "\n",
    "\n",
    "#plot\n",
    "plt.show()"
   ]
  },
  {
   "cell_type": "markdown",
   "metadata": {},
   "source": [
    "####  Southern Hemisphere - Humidity (%) vs. Latitude Linear Regression"
   ]
  },
  {
   "cell_type": "code",
   "execution_count": 20,
   "metadata": {},
   "outputs": [
    {
     "name": "stdout",
     "output_type": "stream",
     "text": [
      "The r-squared is: 0.512392261666042\n"
     ]
    },
    {
     "data": {
      "image/png": "[encoded data removed]",
      "text/plain": [
       "<Figure size 432x288 with 1 Axes>"
      ]
     },
     "metadata": {
      "needs_background": "light"
     },
     "output_type": "display_data"
    }
   ],
   "source": [
    "x_values = southern_hemi['Lat']\n",
    "y_values = southern_hemi['Max Temp']\n",
    "(slope, intercept, rvalue, pvalue, stderr) = linregress(x_values, y_values)\n",
    "regress_values = x_values * slope + intercept\n",
    "line_eq = \"y = \" + str(round(slope,2)) + \"x + \" + str(round(intercept,2))\n",
    "plt.scatter(x_values,y_values)\n",
    "plt.plot(x_values,regress_values,\"r-\")\n",
    "plt.annotate(line_eq,(6,10),fontsize=15,color=\"red\")\n",
    "plt.xlabel('Latitude')\n",
    "plt.ylabel('Humidity')\n",
    "print(f\"The r-squared is: {rvalue**2}\")\n",
    "\n",
    "# Save the figure\n",
    "plt.savefig(\"../output_data/Southern Hemi - Humidity vs. Latitude.png\")\n",
    "\n",
    "\n",
    "#plot\n",
    "plt.show()"
   ]
  },
  {
   "cell_type": "markdown",
   "metadata": {},
   "source": [
    "####  Northern Hemisphere - Cloudiness (%) vs. Latitude Linear Regression"
   ]
  },
  {
   "cell_type": "code",
   "execution_count": 21,
   "metadata": {},
   "outputs": [
    {
     "name": "stdout",
     "output_type": "stream",
     "text": [
      "The r-squared is: 0.00032378798376550804\n"
     ]
    },
    {
     "data": {
      "image/png": "[encoded data removed]",
      "text/plain": [
       "<Figure size 432x288 with 1 Axes>"
      ]
     },
     "metadata": {
      "needs_background": "light"
     },
     "output_type": "display_data"
    }
   ],
   "source": [
    "x_values = northern_hemi['Lat']\n",
    "y_values = northern_hemi['Cloudiness']\n",
    "(slope, intercept, rvalue, pvalue, stderr) = linregress(x_values, y_values)\n",
    "regress_values = x_values * slope + intercept\n",
    "line_eq = \"y = \" + str(round(slope,2)) + \"x + \" + str(round(intercept,2))\n",
    "plt.scatter(x_values,y_values)\n",
    "plt.plot(x_values,regress_values,\"r-\")\n",
    "plt.annotate(line_eq,(6,10),fontsize=15,color=\"red\")\n",
    "plt.xlabel('Latitude')\n",
    "plt.ylabel('Cloudiness (%)')\n",
    "print(f\"The r-squared is: {rvalue**2}\")\n",
    "\n",
    "# Save the figure\n",
    "plt.savefig(\"../output_data/Northern Hemi - Cloudiness vs. Latitude.png\")\n",
    "\n",
    "\n",
    "#plot\n",
    "plt.show()"
   ]
  },
  {
   "cell_type": "markdown",
   "metadata": {},
   "source": [
    "####  Southern Hemisphere - Cloudiness (%) vs. Latitude Linear Regression"
   ]
  },
  {
   "cell_type": "code",
   "execution_count": 22,
   "metadata": {},
   "outputs": [
    {
     "name": "stdout",
     "output_type": "stream",
     "text": [
      "The r-squared is: 0.003822047771091363\n"
     ]
    },
    {
     "data": {
      "image/png": "[encoded data removed]",
      "text/plain": [
       "<Figure size 432x288 with 1 Axes>"
      ]
     },
     "metadata": {
      "needs_background": "light"
     },
     "output_type": "display_data"
    }
   ],
   "source": [
    "x_values = southern_hemi['Lat']\n",
    "y_values = southern_hemi['Cloudiness']\n",
    "(slope, intercept, rvalue, pvalue, stderr) = linregress(x_values, y_values)\n",
    "regress_values = x_values * slope + intercept\n",
    "line_eq = \"y = \" + str(round(slope,2)) + \"x + \" + str(round(intercept,2))\n",
    "plt.scatter(x_values,y_values)\n",
    "plt.plot(x_values,regress_values,\"r-\")\n",
    "plt.annotate(line_eq,(6,10),fontsize=15,color=\"red\")\n",
    "plt.xlabel('Latitude')\n",
    "plt.ylabel('Cloudiness (%)')\n",
    "print(f\"The r-squared is: {rvalue**2}\")\n",
    "\n",
    "# Save the figure\n",
    "plt.savefig(\"../output_data/Southern Hemi - Cloudiness vs. Latitude.png\")\n",
    "\n",
    "\n",
    "#plot\n",
    "plt.show()"
   ]
  },
  {
   "cell_type": "markdown",
   "metadata": {},
   "source": [
    "####  Northern Hemisphere - Wind Speed (mph) vs. Latitude Linear Regression"
   ]
  },
  {
   "cell_type": "code",
   "execution_count": 23,
   "metadata": {},
   "outputs": [
    {
     "name": "stdout",
     "output_type": "stream",
     "text": [
      "The r-squared is: 0.005426696825275542\n"
     ]
    },
    {
     "data": {
      "image/png": "[encoded data removed]",
      "text/plain": [
       "<Figure size 432x288 with 1 Axes>"
      ]
     },
     "metadata": {
      "needs_background": "light"
     },
     "output_type": "display_data"
    }
   ],
   "source": [
    "x_values = northern_hemi['Lat']\n",
    "y_values = northern_hemi['Wind Speed']\n",
    "(slope, intercept, rvalue, pvalue, stderr) = linregress(x_values, y_values)\n",
    "regress_values = x_values * slope + intercept\n",
    "line_eq = \"y = \" + str(round(slope,2)) + \"x + \" + str(round(intercept,2))\n",
    "plt.scatter(x_values,y_values)\n",
    "plt.plot(x_values,regress_values,\"r-\")\n",
    "plt.annotate(line_eq,(6,10),fontsize=15,color=\"red\")\n",
    "plt.xlabel('Latitude')\n",
    "plt.ylabel('Wind Speed (mph)')\n",
    "print(f\"The r-squared is: {rvalue**2}\")\n",
    "\n",
    "# Save the figure\n",
    "plt.savefig(\"../output_data/Northern Hemi - Wind Speed vs. Latitude.png\")\n",
    "\n",
    "\n",
    "#plot\n",
    "plt.show()"
   ]
  },
  {
   "cell_type": "markdown",
   "metadata": {},
   "source": [
    "####  Southern Hemisphere - Wind Speed (mph) vs. Latitude Linear Regression"
   ]
  },
  {
   "cell_type": "code",
   "execution_count": 24,
   "metadata": {},
   "outputs": [
    {
     "name": "stdout",
     "output_type": "stream",
     "text": [
      "The r-squared is: 0.0040174394910933294\n"
     ]
    },
    {
     "data": {
      "image/png": "[encoded data removed]",
      "text/plain": [
       "<Figure size 432x288 with 1 Axes>"
      ]
     },
     "metadata": {
      "needs_background": "light"
     },
     "output_type": "display_data"
    }
   ],
   "source": [
    "x_values = southern_hemi['Lat']\n",
    "y_values = southern_hemi['Wind Speed']\n",
    "(slope, intercept, rvalue, pvalue, stderr) = linregress(x_values, y_values)\n",
    "regress_values = x_values * slope + intercept\n",
    "line_eq = \"y = \" + str(round(slope,2)) + \"x + \" + str(round(intercept,2))\n",
    "plt.scatter(x_values,y_values)\n",
    "plt.plot(x_values,regress_values,\"r-\")\n",
    "plt.annotate(line_eq,(6,10),fontsize=15,color=\"red\")\n",
    "plt.xlabel('Latitude')\n",
    "plt.ylabel('Wind Speed (mph)')\n",
    "print(f\"The r-squared is: {rvalue**2}\")\n",
    "\n",
    "# Save the figure\n",
    "plt.savefig(\"../output_data/Southern Hemi - Wind Speed vs. Latitude.png\")\n",
    "\n",
    "\n",
    "#plot\n",
    "plt.show()"
   ]
  },
  {
   "cell_type": "code",
   "execution_count": null,
   "metadata": {},
   "outputs": [],
   "source": []
  }
 ],
 "metadata": {
  "anaconda-cloud": {},
  "kernel_info": {
   "name": "python3"
  },
  "kernelspec": {
   "display_name": "Python 3",
   "language": "python",
   "name": "python3"
  },
  "language_info": {
   "codemirror_mode": {
    "name": "ipython",
    "version": 3
   },
   "file_extension": ".py",
   "mimetype": "text/x-python",
   "name": "python",
   "nbconvert_exporter": "python",
   "pygments_lexer": "ipython3",
   "version": "3.8.3"
  },
  "latex_envs": {
   "LaTeX_envs_menu_present": true,
   "autoclose": false,
   "autocomplete": true,
   "bibliofile": "biblio.bib",
   "cite_by": "apalike",
   "current_citInitial": 1,
   "eqLabelWithNumbers": true,
   "eqNumInitial": 1,
   "hotkeys": {
    "equation": "Ctrl-E",
    "itemize": "Ctrl-I"
   },
   "labels_anchors": false,
   "latex_user_defs": false,
   "report_style_numbering": false,
   "user_envs_cfg": false
  },
  "nteract": {
   "version": "0.12.3"
  }
 },
 "nbformat": 4,
 "nbformat_minor": 2
}
